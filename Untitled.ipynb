{
 "cells": [
  {
   "cell_type": "code",
   "execution_count": null,
   "metadata": {},
   "outputs": [],
   "source": [
    "import pandas as pd\n",
    "import re\n",
    "import matplotlib.pyplot as plt\n"
   ]
  },
  {
   "cell_type": "code",
   "execution_count": null,
   "metadata": {},
   "outputs": [],
   "source": [
    "# read the csv\n",
    "df = pd.read_csv(\"menu.csv\")\n",
    "# inspect the data\n",
    "df.head()"
   ]
  },
  {
   "cell_type": "code",
   "execution_count": null,
   "metadata": {},
   "outputs": [],
   "source": [
    "df.info()"
   ]
  },
  {
   "cell_type": "code",
   "execution_count": null,
   "metadata": {},
   "outputs": [],
   "source": [
    "# checking for duplicated data\n",
    "df.duplicated().sum()"
   ]
  },
  {
   "cell_type": "code",
   "execution_count": null,
   "metadata": {},
   "outputs": [],
   "source": [
    "df.shape\n",
    "# checking for the existence of null data\n",
    "df.isnull().sum()"
   ]
  },
  {
   "cell_type": "code",
   "execution_count": null,
   "metadata": {},
   "outputs": [],
   "source": [
    "# checking for any incorrect data types \n",
    "df.dtypes\n",
    "\n",
    "df[\"Category\"].unique()"
   ]
  },
  {
   "cell_type": "code",
   "execution_count": null,
   "metadata": {},
   "outputs": [],
   "source": [
    "# analysing the dataset\n",
    "\n",
    "# How many calories does the average McDonald's value meal contain? \n",
    "df.describe()[\"Calories\"][\"mean\"]"
   ]
  },
  {
   "cell_type": "code",
   "execution_count": null,
   "metadata": {},
   "outputs": [],
   "source": [
    "# How much do beverages, like soda or coffee, contribute to the overall caloric intake? \n",
    "df_filtered = df[df[\"Category\"].isin([\"Beverages\",\"Coffee & Tea\"])]\n",
    "calorie_intake_drinks = round((df_filtered[\"Calories\"].sum()/df[\"Calories\"].sum())*100,2)\n",
    "calorie_intake_drinks\n",
    "        "
   ]
  },
  {
   "cell_type": "code",
   "execution_count": 28,
   "metadata": {},
   "outputs": [
    {
     "ename": "AttributeError",
     "evalue": "'Series' object has no attribute 'is_in'",
     "output_type": "error",
     "traceback": [
      "\u001b[1;31m---------------------------------------------------------------------------\u001b[0m",
      "\u001b[1;31mAttributeError\u001b[0m                            Traceback (most recent call last)",
      "\u001b[1;32m~\\AppData\\Local\\Temp\\ipykernel_7728\\1053632192.py\u001b[0m in \u001b[0;36m?\u001b[1;34m()\u001b[0m\n\u001b[0;32m     15\u001b[0m \u001b[1;33m\u001b[0m\u001b[0m\n\u001b[0;32m     16\u001b[0m \u001b[0mdf_egg_whites\u001b[0m \u001b[1;33m=\u001b[0m \u001b[0mdf\u001b[0m\u001b[1;33m[\u001b[0m\u001b[0mdf\u001b[0m\u001b[1;33m[\u001b[0m\u001b[1;34m\"Item\"\u001b[0m\u001b[1;33m]\u001b[0m\u001b[1;33m.\u001b[0m\u001b[0mstr\u001b[0m\u001b[1;33m.\u001b[0m\u001b[0mcontains\u001b[0m\u001b[1;33m(\u001b[0m\u001b[1;34m\"Egg Whites\"\u001b[0m\u001b[1;33m)\u001b[0m\u001b[1;33m]\u001b[0m \u001b[1;31m#Egg Whites\u001b[0m\u001b[1;33m\u001b[0m\u001b[1;33m\u001b[0m\u001b[0m\n\u001b[0;32m     17\u001b[0m \u001b[0mdf_egg_list\u001b[0m \u001b[1;33m=\u001b[0m  \u001b[1;33m[\u001b[0m\u001b[0mx\u001b[0m\u001b[1;33m.\u001b[0m\u001b[0mreplace\u001b[0m\u001b[1;33m(\u001b[0m\u001b[1;34m\" Whites\"\u001b[0m\u001b[1;33m,\u001b[0m\u001b[1;34m\"\"\u001b[0m\u001b[1;33m)\u001b[0m \u001b[1;32mfor\u001b[0m \u001b[0mx\u001b[0m \u001b[1;32min\u001b[0m \u001b[0mlist\u001b[0m\u001b[1;33m(\u001b[0m\u001b[0mdf_egg_whites\u001b[0m\u001b[1;33m[\u001b[0m\u001b[1;34m\"Item\"\u001b[0m\u001b[1;33m]\u001b[0m\u001b[1;33m.\u001b[0m\u001b[0munique\u001b[0m\u001b[1;33m(\u001b[0m\u001b[1;33m)\u001b[0m\u001b[1;33m)\u001b[0m\u001b[1;33m]\u001b[0m\u001b[1;33m\u001b[0m\u001b[1;33m\u001b[0m\u001b[0m\n\u001b[0;32m     18\u001b[0m \u001b[0mdf_egg_list\u001b[0m\u001b[1;33m\u001b[0m\u001b[1;33m\u001b[0m\u001b[0m\n\u001b[1;32m---> 19\u001b[1;33m \u001b[0mdf\u001b[0m\u001b[1;33m[\u001b[0m\u001b[1;34m\"Item\"\u001b[0m\u001b[1;33m]\u001b[0m\u001b[1;33m.\u001b[0m\u001b[0mis_in\u001b[0m\u001b[1;33m(\u001b[0m\u001b[0mdf_egg_list\u001b[0m\u001b[1;33m)\u001b[0m\u001b[1;33m\u001b[0m\u001b[1;33m\u001b[0m\u001b[0m\n\u001b[0m\u001b[0;32m     20\u001b[0m \u001b[1;31m# df_whole_eggs = df[df[\"Item\"].str.contains(\"Crispy\") & df[\"Item\"].str.contains(\"Sandwich\")]\u001b[0m\u001b[1;33m\u001b[0m\u001b[1;33m\u001b[0m\u001b[0m\n\u001b[0;32m     21\u001b[0m \u001b[1;31m# replace_dict = {' Crispy': '', ' Grilled': ''}\u001b[0m\u001b[1;33m\u001b[0m\u001b[1;33m\u001b[0m\u001b[0m\n\u001b[0;32m     22\u001b[0m \u001b[1;31m# sandwich_types = list(set(df[df[\"Item\"].str.contains(\"Sandwich\")][\"Item\"].str.replace('|'.join(replace_dict.keys()), lambda x: replace_dict[x.group()], regex=True)))\u001b[0m\u001b[1;33m\u001b[0m\u001b[1;33m\u001b[0m\u001b[0m\n",
      "\u001b[1;32mc:\\Python310\\lib\\site-packages\\pandas\\core\\generic.py\u001b[0m in \u001b[0;36m?\u001b[1;34m(self, name)\u001b[0m\n\u001b[0;32m   6289\u001b[0m             \u001b[1;32mand\u001b[0m \u001b[0mname\u001b[0m \u001b[1;32mnot\u001b[0m \u001b[1;32min\u001b[0m \u001b[0mself\u001b[0m\u001b[1;33m.\u001b[0m\u001b[0m_accessors\u001b[0m\u001b[1;33m\u001b[0m\u001b[1;33m\u001b[0m\u001b[0m\n\u001b[0;32m   6290\u001b[0m             \u001b[1;32mand\u001b[0m \u001b[0mself\u001b[0m\u001b[1;33m.\u001b[0m\u001b[0m_info_axis\u001b[0m\u001b[1;33m.\u001b[0m\u001b[0m_can_hold_identifiers_and_holds_name\u001b[0m\u001b[1;33m(\u001b[0m\u001b[0mname\u001b[0m\u001b[1;33m)\u001b[0m\u001b[1;33m\u001b[0m\u001b[1;33m\u001b[0m\u001b[0m\n\u001b[0;32m   6291\u001b[0m         ):\n\u001b[0;32m   6292\u001b[0m             \u001b[1;32mreturn\u001b[0m \u001b[0mself\u001b[0m\u001b[1;33m[\u001b[0m\u001b[0mname\u001b[0m\u001b[1;33m]\u001b[0m\u001b[1;33m\u001b[0m\u001b[1;33m\u001b[0m\u001b[0m\n\u001b[1;32m-> 6293\u001b[1;33m         \u001b[1;32mreturn\u001b[0m \u001b[0mobject\u001b[0m\u001b[1;33m.\u001b[0m\u001b[0m__getattribute__\u001b[0m\u001b[1;33m(\u001b[0m\u001b[0mself\u001b[0m\u001b[1;33m,\u001b[0m \u001b[0mname\u001b[0m\u001b[1;33m)\u001b[0m\u001b[1;33m\u001b[0m\u001b[1;33m\u001b[0m\u001b[0m\n\u001b[0m",
      "\u001b[1;31mAttributeError\u001b[0m: 'Series' object has no attribute 'is_in'"
     ]
    }
   ],
   "source": [
    "# What about ordering egg whites instead of whole eggs? \n",
    "nutritional_columns = [\n",
    "    'Calories',\n",
    "    'Calories from Fat',\n",
    "    'Total Fat',\n",
    "    'Saturated Fat',\n",
    "    'Trans Fat',\n",
    "    'Cholesterol',\n",
    "    'Sodium',\n",
    "    'Carbohydrates',\n",
    "    'Dietary Fiber',\n",
    "    'Sugars',\n",
    "    'Protein'\n",
    "]\n",
    "\n",
    "df_egg_whites = df[df[\"Item\"].str.contains(\"Egg Whites\")] #Egg Whites\n",
    "df_egg_list =  [x.replace(\" Whites\",\"\") for x in list(df_egg_whites[\"Item\"].unique())]\n",
    "df_egg_list\n",
    "df[\"Item\"].is_in(df_egg_list)\n",
    "# df_whole_eggs = df[df[\"Item\"].str.contains(\"Crispy\") & df[\"Item\"].str.contains(\"Sandwich\")]\n",
    "# replace_dict = {' Crispy': '', ' Grilled': ''}\n",
    "# sandwich_types = list(set(df[df[\"Item\"].str.contains(\"Sandwich\")][\"Item\"].str.replace('|'.join(replace_dict.keys()), lambda x: replace_dict[x.group()], regex=True)))\n",
    "# for sandwich in sandwich_types:\n",
    "#     word_list = sandwich.split(\" \")\n",
    "#     regex_pattern = r'\\b(?:{})\\b'.format('.*'.join(word_list))\n",
    "#     filtered_df = df[df['Item'].apply(lambda x: bool(re.search(regex_pattern, x, re.IGNORECASE)))]\n",
    "\n",
    "#     if(filtered_df[\"Item\"].shape[0] == 2):\n",
    "#         for nutritional_elements in nutritional_columns:\n",
    "#             values = [\n",
    "#                 filtered_df.iloc[0,:][nutritional_elements],\n",
    "#                 filtered_df.iloc[1,:][nutritional_elements]]\n",
    "#             labels = [\n",
    "#                 \"Crispy\" if \"crispy\" in filtered_df.iloc[0,:][\"Item\"].lower() else \"Grilled\" ,\n",
    "#                 \"Grilled\" if \"grilled\" in filtered_df.iloc[0,:][\"Item\"].lower() else \"Grilled\"]\n",
    "#             plt.bar(labels, values, color=['blue', 'green'])  # You can customize colors if needed\n",
    "#             plt.xlabel(nutritional_elements)\n",
    "#             plt.ylabel('Magnitude')\n",
    "#             plt.title(f\"Comparing, {sandwich}\")\n",
    "#             plt.show()\n"
   ]
  },
  {
   "cell_type": "code",
   "execution_count": null,
   "metadata": {},
   "outputs": [],
   "source": [
    "# What is the least number of items could you order from the menu to meet one day's nutritional requirements?"
   ]
  }
 ],
 "metadata": {
  "kernelspec": {
   "display_name": "Python 3",
   "language": "python",
   "name": "python3"
  },
  "language_info": {
   "codemirror_mode": {
    "name": "ipython",
    "version": 3
   },
   "file_extension": ".py",
   "mimetype": "text/x-python",
   "name": "python",
   "nbconvert_exporter": "python",
   "pygments_lexer": "ipython3",
   "version": "3.10.6"
  }
 },
 "nbformat": 4,
 "nbformat_minor": 2
}
