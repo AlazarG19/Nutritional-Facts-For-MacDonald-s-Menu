{
 "cells": [
  {
   "cell_type": "code",
   "execution_count": null,
   "metadata": {},
   "outputs": [],
   "source": [
    "import pandas as pd\n",
    "import re\n",
    "import matplotlib.pyplot as plt\n"
   ]
  },
  {
   "cell_type": "code",
   "execution_count": null,
   "metadata": {},
   "outputs": [],
   "source": [
    "# read the csv\n",
    "df = pd.read_csv(\"menu.csv\")\n",
    "# inspect the data\n",
    "df.head()"
   ]
  },
  {
   "cell_type": "code",
   "execution_count": null,
   "metadata": {},
   "outputs": [],
   "source": [
    "df.info()"
   ]
  },
  {
   "cell_type": "code",
   "execution_count": null,
   "metadata": {},
   "outputs": [],
   "source": [
    "# checking for duplicated data\n",
    "df.duplicated().sum()"
   ]
  },
  {
   "cell_type": "code",
   "execution_count": null,
   "metadata": {},
   "outputs": [],
   "source": [
    "df.shape\n",
    "# checking for the existence of null data\n",
    "df.isnull().sum()"
   ]
  },
  {
   "cell_type": "code",
   "execution_count": null,
   "metadata": {},
   "outputs": [],
   "source": [
    "# checking for any incorrect data types \n",
    "df.dtypes\n",
    "\n",
    "df[\"Category\"].unique()"
   ]
  },
  {
   "cell_type": "code",
   "execution_count": null,
   "metadata": {},
   "outputs": [],
   "source": [
    "# analysing the dataset\n",
    "\n",
    "# How many calories does the average McDonald's value meal contain? \n",
    "df.describe()[\"Calories\"][\"mean\"]"
   ]
  },
  {
   "cell_type": "code",
   "execution_count": null,
   "metadata": {},
   "outputs": [],
   "source": [
    "# How much do beverages, like soda or coffee, contribute to the overall caloric intake? \n",
    "df_filtered = df[df[\"Category\"].isin([\"Beverages\",\"Coffee & Tea\"])]\n",
    "calorie_intake_drinks = round((df_filtered[\"Calories\"].sum()/df[\"Calories\"].sum())*100,2)\n",
    "calorie_intake_drinks\n",
    "        "
   ]
  },
  {
   "cell_type": "code",
   "execution_count": null,
   "metadata": {},
   "outputs": [],
   "source": [
    "# Does ordered grilled chicken instead of crispy increase a sandwich's nutritional value? \n",
    "nutritional_columns = [\n",
    "    'Calories',\n",
    "    'Calories from Fat',\n",
    "    'Total Fat',\n",
    "    'Saturated Fat',\n",
    "    'Trans Fat',\n",
    "    'Cholesterol',\n",
    "    'Sodium',\n",
    "    'Carbohydrates',\n",
    "    'Dietary Fiber',\n",
    "    'Sugars',\n",
    "    'Protein'\n",
    "]\n",
    "\n",
    "\n",
    "df_grilled_sandwich = df[df[\"Item\"].str.contains(\"Grilled\") & df[\"Item\"].str.contains(\"Sandwich\")]\n",
    "df_crispy_sandwich = df[df[\"Item\"].str.contains(\"Crispy\") & df[\"Item\"].str.contains(\"Sandwich\")]\n",
    "replace_dict = {' Crispy': '', ' Grilled': ''}\n",
    "sandwich_types = list(set(df[df[\"Item\"].str.contains(\"Sandwich\")][\"Item\"].str.replace('|'.join(replace_dict.keys()), lambda x: replace_dict[x.group()], regex=True)))\n",
    "for sandwich in sandwich_types:\n",
    "    word_list = sandwich.split(\" \")\n",
    "    regex_pattern = r'\\b(?:{})\\b'.format('.*'.join(word_list))\n",
    "    filtered_df = df[df['Item'].apply(lambda x: bool(re.search(regex_pattern, x, re.IGNORECASE)))]\n",
    "\n",
    "    if(filtered_df[\"Item\"].shape[0] == 2):\n",
    "        for nutritional_elements in nutritional_columns:\n",
    "            values = [\n",
    "                filtered_df.iloc[0,:][nutritional_elements],\n",
    "                filtered_df.iloc[1,:][nutritional_elements]]\n",
    "            labels = [\n",
    "                \"Crispy\" if \"crispy\" in filtered_df.iloc[0,:][\"Item\"].lower() else \"Grilled\" ,\n",
    "                \"Grilled\" if \"grilled\" in filtered_df.iloc[1,:][\"Item\"].lower() else \"Grilled\"]\n",
    "            plt.bar(labels, values, color=['blue', 'green'])  # You can customize colors if needed\n",
    "            plt.xlabel(nutritional_elements)\n",
    "            plt.ylabel('Magnitude')\n",
    "            plt.title(f\"Comparing, {sandwich}\")\n",
    "            plt.show()\n"
   ]
  },
  {
   "cell_type": "code",
   "execution_count": null,
   "metadata": {},
   "outputs": [],
   "source": [
    "# What about ordering egg whites instead of whole eggs? \n",
    "nutritional_columns = [\n",
    "    'Calories',\n",
    "    'Calories from Fat',\n",
    "    'Total Fat',\n",
    "    'Saturated Fat',\n",
    "    'Trans Fat',\n",
    "    'Cholesterol',\n",
    "    'Sodium',\n",
    "    'Carbohydrates',\n",
    "    'Dietary Fiber',\n",
    "    'Sugars',\n",
    "    'Protein'\n",
    "]\n",
    "pattern = r\"\\s+whites\\b\"\n",
    "df_egg_whites = df[df[\"Item\"].str.contains(\"Egg Whites\")] #Egg Whites\n",
    "df_egg_list = df_egg_whites[\"Item\"].str.replace(pattern, \"\", regex=True, flags=re.IGNORECASE)\n",
    "df_whole_eggs = df[df[\"Item\"].isin(df_egg_list)]\n",
    "egg_types = list(df[df[\"Item\"].isin(df_egg_list)][\"Item\"].unique())\n",
    "\n",
    "for egg in egg_types:\n",
    "    word_list = egg.split(\" \")\n",
    "    regex_pattern = r'\\b(?:{})\\b'.format('.*'.join(word_list))\n",
    "    filtered_df = df[df['Item'].apply(lambda x: bool(re.search(regex_pattern, x, re.IGNORECASE)))]\n",
    "    for nutritional_elements in nutritional_columns:\n",
    "        values = [\n",
    "            filtered_df.iloc[0,:][nutritional_elements],\n",
    "            filtered_df.iloc[1,:][nutritional_elements]]\n",
    "        labels = [\n",
    "            \"Egg Whites\" if \"whites\" in filtered_df.iloc[0,:][\"Item\"].lower() else \"Whole Egg\" ,\n",
    "            \"Whole Egg\" if \"whites\" not in filtered_df.iloc[1,:][\"Item\"].lower() else \"Egg Whites\"]\n",
    "        plt.bar(labels, values, color=['blue', 'green'])  # You can customize colors if needed\n",
    "        plt.xlabel(nutritional_elements)\n",
    "        plt.ylabel('Magnitude')\n",
    "        plt.title(f\"Comparing, {egg}\")\n",
    "        plt.show()\n"
   ]
  }
 ],
 "metadata": {
  "kernelspec": {
   "display_name": "Python 3",
   "language": "python",
   "name": "python3"
  },
  "language_info": {
   "codemirror_mode": {
    "name": "ipython",
    "version": 3
   },
   "file_extension": ".py",
   "mimetype": "text/x-python",
   "name": "python",
   "nbconvert_exporter": "python",
   "pygments_lexer": "ipython3",
   "version": "3.10.6"
  }
 },
 "nbformat": 4,
 "nbformat_minor": 2
}
