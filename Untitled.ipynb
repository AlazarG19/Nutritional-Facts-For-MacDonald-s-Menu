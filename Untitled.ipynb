{
 "cells": [
  {
   "cell_type": "code",
   "execution_count": null,
   "metadata": {},
   "outputs": [],
   "source": [
    "import pandas as pd\n"
   ]
  },
  {
   "cell_type": "code",
   "execution_count": null,
   "metadata": {},
   "outputs": [],
   "source": [
    "# read the csv\n",
    "df = pd.read_csv(\"menu.csv\")\n",
    "# inspect the data\n",
    "df.head()"
   ]
  },
  {
   "cell_type": "code",
   "execution_count": null,
   "metadata": {},
   "outputs": [],
   "source": [
    "df.info()"
   ]
  },
  {
   "cell_type": "code",
   "execution_count": null,
   "metadata": {},
   "outputs": [],
   "source": [
    "# checking for duplicated data\n",
    "df.duplicated().sum()"
   ]
  },
  {
   "cell_type": "code",
   "execution_count": null,
   "metadata": {},
   "outputs": [],
   "source": [
    "df.shape\n",
    "# checking for the existence of null data\n",
    "df.isnull().sum()"
   ]
  },
  {
   "cell_type": "code",
   "execution_count": null,
   "metadata": {},
   "outputs": [],
   "source": [
    "# checking for any incorrect data types \n",
    "df.dtypes\n",
    "\n",
    "df[\"Category\"].unique()"
   ]
  },
  {
   "cell_type": "code",
   "execution_count": null,
   "metadata": {},
   "outputs": [],
   "source": [
    "# analysing the dataset\n",
    "\n",
    "# How many calories does the average McDonald's value meal contain? \n",
    "df.describe()[\"Calories\"][\"mean\"]"
   ]
  },
  {
   "cell_type": "code",
   "execution_count": null,
   "metadata": {},
   "outputs": [],
   "source": [
    "# How much do beverages, like soda or coffee, contribute to the overall caloric intake? \n",
    "df_filtered = df[df[\"Category\"].isin([\"Beverages\",\"Coffee & Tea\"])]\n",
    "calorie_intake_drinks = round((df_filtered[\"Calories\"].sum()/df[\"Calories\"].sum())*100,2)\n",
    "calorie_intake_drinks\n",
    "        "
   ]
  },
  {
   "cell_type": "code",
   "execution_count": null,
   "metadata": {},
   "outputs": [],
   "source": [
    "# Does ordered grilled chicken instead of crispy increase a sandwich's nutritional value? \n",
    "nutritional_columns = [\n",
    "    'Calories',\n",
    "    'Calories from Fat',\n",
    "    'Total Fat',\n",
    "    'Saturated Fat',\n",
    "    'Trans Fat',\n",
    "    'Cholesterol',\n",
    "    'Sodium',\n",
    "    'Carbohydrates',\n",
    "    'Dietary Fiber',\n",
    "    'Sugars',\n",
    "    'Protein'\n",
    "]\n",
    "df_grilled_sandwich = df[df[\"Item\"].str.contains(\"Grilled\") & df[\"Item\"].str.contains(\"Sandwich\")]\n",
    "df_crispy_sandwich = df[df[\"Item\"].str.contains(\"Crispy\") & df[\"Item\"].str.contains(\"Sandwich\")]\n",
    "replace_dict = {' Crispy': '', ' Grilled': ''}\n",
    "sandwich_types = list(set(df[df[\"Item\"].str.contains(\"Sandwich\")][\"Item\"].str.replace('|'.join(replace_dict.keys()), lambda x: replace_dict[x.group()], regex=True)))\n",
    "# for i in sandwich_types:\n",
    "print(sandwich_types)\n",
    "df[\"Item\"].apply(lambda x: True if x in sandwich_types[0] else False).value_counts()\n",
    "df[df[\"Item\"].str.contains(\"Premium\")]\n",
    "# df[df[\"Item\"].apply(lambda x: True if x in sandwich_types[0] else False)]\n",
    "# sandwich_types"
   ]
  },
  {
   "cell_type": "code",
   "execution_count": null,
   "metadata": {},
   "outputs": [],
   "source": [
    "# What about ordering egg whites instead of whole eggs? \n"
   ]
  },
  {
   "cell_type": "code",
   "execution_count": null,
   "metadata": {},
   "outputs": [],
   "source": [
    "# What is the least number of items could you order from the menu to meet one day's nutritional requirements?"
   ]
  }
 ],
 "metadata": {
  "kernelspec": {
   "display_name": "Python 3",
   "language": "python",
   "name": "python3"
  },
  "language_info": {
   "codemirror_mode": {
    "name": "ipython",
    "version": 3
   },
   "file_extension": ".py",
   "mimetype": "text/x-python",
   "name": "python",
   "nbconvert_exporter": "python",
   "pygments_lexer": "ipython3",
   "version": "3.10.6"
  }
 },
 "nbformat": 4,
 "nbformat_minor": 2
}
